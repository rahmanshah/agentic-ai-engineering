{
 "cells": [
  {
   "cell_type": "code",
   "execution_count": 2,
   "id": "f4d1fae8",
   "metadata": {},
   "outputs": [],
   "source": [
    "from dotenv import load_dotenv, find_dotenv\n",
    "from openai import OpenAI\n",
    "from IPython.display import display, Markdown"
   ]
  },
  {
   "cell_type": "code",
   "execution_count": 3,
   "id": "ff65332f",
   "metadata": {},
   "outputs": [
    {
     "data": {
      "text/plain": [
       "True"
      ]
     },
     "execution_count": 3,
     "metadata": {},
     "output_type": "execute_result"
    }
   ],
   "source": [
    "load_dotenv(find_dotenv(),override=True)"
   ]
  },
  {
   "cell_type": "code",
   "execution_count": 4,
   "id": "2f157132",
   "metadata": {},
   "outputs": [],
   "source": [
    "client = OpenAI()"
   ]
  },
  {
   "cell_type": "markdown",
   "id": "998e223d",
   "metadata": {},
   "source": [
    "### MCP Fetch"
   ]
  },
  {
   "cell_type": "code",
   "execution_count": 6,
   "id": "2f76ffc4",
   "metadata": {},
   "outputs": [],
   "source": [
    "from openai import OpenAI\n",
    "\n",
    "client = OpenAI()\n",
    "\n",
    "response = client.responses.create(\n",
    "  model=\"gpt-4.1-nano\",\n",
    "  input=\"Find information about world club cup tournament\",\n",
    "  tools = [\n",
    "    {\n",
    "        \"type\" : \"mcp\",\n",
    "        \"server_label\" : \"fetch\",\n",
    "        \"server_url\" : \"https://remote.mcpservers.org/fetch/mcp\",\n",
    "        \"require_approval\" : \"never\"\n",
    "    }\n",
    "  ]\n",
    ")\n",
    "\n",
    "\n"
   ]
  },
  {
   "cell_type": "code",
   "execution_count": 7,
   "id": "845caecb",
   "metadata": {},
   "outputs": [
    {
     "data": {
      "text/markdown": [
       "The Intercontinental Cup was a football competition endorsed by UEFA and CONMEBOL, contested by the champions of Europe and South America, respectively. It aimed to determine the world's best football club before the establishment of the FIFA Club World Cup. The tournament was played annually from 1960 to 2004. Real Madrid and AC Milan have been notably successful in its history."
      ],
      "text/plain": [
       "<IPython.core.display.Markdown object>"
      ]
     },
     "execution_count": 7,
     "metadata": {},
     "output_type": "execute_result"
    }
   ],
   "source": [
    "Markdown(response.output_text)"
   ]
  }
 ],
 "metadata": {
  "kernelspec": {
   "display_name": "agentic-ai-engineering",
   "language": "python",
   "name": "python3"
  },
  "language_info": {
   "codemirror_mode": {
    "name": "ipython",
    "version": 3
   },
   "file_extension": ".py",
   "mimetype": "text/x-python",
   "name": "python",
   "nbconvert_exporter": "python",
   "pygments_lexer": "ipython3",
   "version": "3.13.5"
  }
 },
 "nbformat": 4,
 "nbformat_minor": 5
}
