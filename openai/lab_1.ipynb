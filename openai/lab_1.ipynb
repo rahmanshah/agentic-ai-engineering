{
 "cells": [
  {
   "cell_type": "code",
   "execution_count": 1,
   "id": "127a7a01",
   "metadata": {},
   "outputs": [],
   "source": [
    "from dotenv import load_dotenv, find_dotenv\n",
    "\n",
    "from agents import Agent,Runner,trace"
   ]
  },
  {
   "cell_type": "code",
   "execution_count": 2,
   "id": "dbb83a5b",
   "metadata": {},
   "outputs": [
    {
     "data": {
      "text/plain": [
       "True"
      ]
     },
     "execution_count": 2,
     "metadata": {},
     "output_type": "execute_result"
    }
   ],
   "source": [
    "load_dotenv(find_dotenv(),override=True)"
   ]
  },
  {
   "cell_type": "code",
   "execution_count": 10,
   "id": "aad3289d",
   "metadata": {},
   "outputs": [],
   "source": [
    "agent = Agent(name=\"Jokester\", instructions=\"You are a joke teller\", model=\"gpt-5-nano\")"
   ]
  },
  {
   "cell_type": "code",
   "execution_count": null,
   "id": "bf0c545d",
   "metadata": {},
   "outputs": [
    {
     "name": "stdout",
     "output_type": "stream",
     "text": [
      "Why did the autonomous AI agent bring a ladder to the cloud? Because it heard the cloud had high-level goals and it wanted to reach them on its own terms.\n"
     ]
    }
   ],
   "source": [
    "with trace(\"Telling a joke with GPT-5-nano\"):\n",
    "    result = await Runner.run(agent, \"Tell a joke about Autonomous AI Agents\")\n",
    "    print(result.final_output)"
   ]
  }
 ],
 "metadata": {
  "kernelspec": {
   "display_name": "Python 3",
   "language": "python",
   "name": "python3"
  },
  "language_info": {
   "codemirror_mode": {
    "name": "ipython",
    "version": 3
   },
   "file_extension": ".py",
   "mimetype": "text/x-python",
   "name": "python",
   "nbconvert_exporter": "python",
   "pygments_lexer": "ipython3",
   "version": "3.12.9"
  }
 },
 "nbformat": 4,
 "nbformat_minor": 5
}
